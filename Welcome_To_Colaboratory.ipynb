{
  "cells": [
    {
      "cell_type": "markdown",
      "metadata": {
        "id": "view-in-github",
        "colab_type": "text"
      },
      "source": [
        "<a href=\"https://colab.research.google.com/github/mmentella/neuron/blob/master/Welcome_To_Colaboratory.ipynb\" target=\"_parent\"><img src=\"https://colab.research.google.com/assets/colab-badge.svg\" alt=\"Open In Colab\"/></a>"
      ]
    },
    {
      "cell_type": "code",
      "source": [
        "import tensorflow as tf\n",
        "\n",
        "c = tf.constant([[[1.0, 2.0], [3.0, 4.0]],[[1.0, 2.0], [3.0, 4.0]]])\n",
        "d = tf.constant([[[5.0, 6.0], [7.0, 8.0]],[[5.0, 6.0], [7.0, 8.0]]])\n",
        "\n",
        "tf.tensordot(c,d,[[1],[1]])"
      ],
      "metadata": {
        "id": "bBUbPZHqwcxO",
        "outputId": "f10b34d2-b7c2-4a16-e34f-03e845e9d23c",
        "colab": {
          "base_uri": "https://localhost:8080/"
        }
      },
      "execution_count": 5,
      "outputs": [
        {
          "output_type": "execute_result",
          "data": {
            "text/plain": [
              "<tf.Tensor: shape=(2, 2, 2, 2), dtype=float32, numpy=\n",
              "array([[[[26., 30.],\n",
              "         [26., 30.]],\n",
              "\n",
              "        [[38., 44.],\n",
              "         [38., 44.]]],\n",
              "\n",
              "\n",
              "       [[[26., 30.],\n",
              "         [26., 30.]],\n",
              "\n",
              "        [[38., 44.],\n",
              "         [38., 44.]]]], dtype=float32)>"
            ]
          },
          "metadata": {},
          "execution_count": 5
        }
      ]
    },
    {
      "cell_type": "code",
      "source": [
        "import tensorflow as tf\n",
        "\n",
        "a = tf.constant([[[1,2],[3,4],[5,6]],[[1,2],[3,4],[5,6]]])\n",
        "b = tf.constant([[1,2],[3,4]])\n",
        "print(a)\n",
        "print(b)\n",
        "\n",
        "c = tf.tensordot(a,b,1)\n",
        "print(c)\n",
        "d = tf.tensordot(a,b,[[0],[0]])\n",
        "print(d)"
      ],
      "metadata": {
        "id": "-lOSjDhs9Hoc",
        "outputId": "9bdd47ed-f85e-4ff8-ca69-81ed748ec123",
        "colab": {
          "base_uri": "https://localhost:8080/"
        }
      },
      "execution_count": 23,
      "outputs": [
        {
          "output_type": "stream",
          "name": "stdout",
          "text": [
            "tf.Tensor(\n",
            "[[[1 2]\n",
            "  [3 4]\n",
            "  [5 6]]\n",
            "\n",
            " [[1 2]\n",
            "  [3 4]\n",
            "  [5 6]]], shape=(2, 3, 2), dtype=int32)\n",
            "tf.Tensor(\n",
            "[[1 2]\n",
            " [3 4]], shape=(2, 2), dtype=int32)\n",
            "tf.Tensor(\n",
            "[[[ 7 10]\n",
            "  [15 22]\n",
            "  [23 34]]\n",
            "\n",
            " [[ 7 10]\n",
            "  [15 22]\n",
            "  [23 34]]], shape=(2, 3, 2), dtype=int32)\n",
            "tf.Tensor(\n",
            "[[[ 4  6]\n",
            "  [ 8 12]]\n",
            "\n",
            " [[12 18]\n",
            "  [16 24]]\n",
            "\n",
            " [[20 30]\n",
            "  [24 36]]], shape=(3, 2, 2), dtype=int32)\n"
          ]
        }
      ]
    },
    {
      "cell_type": "code",
      "source": [
        "import tensorflow as tf\n",
        "\n",
        "a = tf.constant([[[1,2],[3,4]],[[1,2],[3,4]]])\n",
        "print(a)\n",
        "b = a\n",
        "print(b)\n",
        "\n",
        "c = tf.tensordot(a,b,[[0],[0]])\n",
        "print(c)"
      ],
      "metadata": {
        "id": "4YwDNrlTn9ET",
        "outputId": "9e418265-e1b9-449c-c96c-970d71468520",
        "colab": {
          "base_uri": "https://localhost:8080/"
        }
      },
      "execution_count": 4,
      "outputs": [
        {
          "output_type": "stream",
          "name": "stdout",
          "text": [
            "tf.Tensor(\n",
            "[[[1 2]\n",
            "  [3 4]]\n",
            "\n",
            " [[1 2]\n",
            "  [3 4]]], shape=(2, 2, 2), dtype=int32)\n",
            "tf.Tensor(\n",
            "[[[1 2]\n",
            "  [3 4]]\n",
            "\n",
            " [[1 2]\n",
            "  [3 4]]], shape=(2, 2, 2), dtype=int32)\n",
            "tf.Tensor(\n",
            "[[[[ 2  4]\n",
            "   [ 6  8]]\n",
            "\n",
            "  [[ 4  8]\n",
            "   [12 16]]]\n",
            "\n",
            "\n",
            " [[[ 6 12]\n",
            "   [18 24]]\n",
            "\n",
            "  [[ 8 16]\n",
            "   [24 32]]]], shape=(2, 2, 2, 2), dtype=int32)\n"
          ]
        }
      ]
    }
  ],
  "metadata": {
    "colab": {
      "collapsed_sections": [],
      "name": "Welcome To Colaboratory",
      "toc_visible": true,
      "provenance": [],
      "include_colab_link": true
    },
    "kernelspec": {
      "display_name": "Python 3",
      "name": "python3"
    }
  },
  "nbformat": 4,
  "nbformat_minor": 0
}